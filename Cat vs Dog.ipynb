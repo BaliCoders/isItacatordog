{
 "cells": [
  {
   "cell_type": "code",
   "execution_count": 22,
   "id": "7044e478",
   "metadata": {},
   "outputs": [],
   "source": [
    "#|defaultexport app"
   ]
  },
  {
   "cell_type": "code",
   "execution_count": 9,
   "id": "92abcaaa",
   "metadata": {},
   "outputs": [],
   "source": [
    "#|export\n",
    "from fastai.vision.all import *\n",
    "import gradio as gr\n",
    "def is_cat(x): return x[0].isupper()"
   ]
  },
  {
   "cell_type": "code",
   "execution_count": 4,
   "id": "81413fbe",
   "metadata": {},
   "outputs": [],
   "source": [
    "im = PILImage.create('cat.png')\n",
    "im.thumbnail((128,128))"
   ]
  },
  {
   "cell_type": "code",
   "execution_count": 5,
   "id": "b275adb8",
   "metadata": {},
   "outputs": [
    {
     "data": {
      "image/png": "[encoded data removed]",
      "text/plain": [
       "PILImage mode=RGB size=128x89"
      ]
     },
     "execution_count": 5,
     "metadata": {},
     "output_type": "execute_result"
    }
   ],
   "source": [
    "im\n"
   ]
  },
  {
   "cell_type": "code",
   "execution_count": 7,
   "id": "a2b13173",
   "metadata": {},
   "outputs": [],
   "source": [
    "#|export \n",
    "learn = load_learner('cat_dog.pkl')"
   ]
  },
  {
   "cell_type": "code",
   "execution_count": 10,
   "id": "d6f0dee6",
   "metadata": {},
   "outputs": [
    {
     "data": {
      "text/html": [
       "\n",
       "<style>\n",
       "    /* Turns off some styling */\n",
       "    progress {\n",
       "        /* gets rid of default border in Firefox and Opera. */\n",
       "        border: none;\n",
       "        /* Needs to be in here for Safari polyfill so background images work as expected. */\n",
       "        background-size: auto;\n",
       "    }\n",
       "    progress:not([value]), progress:not([value])::-webkit-progress-bar {\n",
       "        background: repeating-linear-gradient(45deg, #7e7e7e, #7e7e7e 10px, #5c5c5c 10px, #5c5c5c 20px);\n",
       "    }\n",
       "    .progress-bar-interrupted, .progress-bar-interrupted::-webkit-progress-bar {\n",
       "        background: #F44336;\n",
       "    }\n",
       "</style>\n"
      ],
      "text/plain": [
       "<IPython.core.display.HTML object>"
      ]
     },
     "metadata": {},
     "output_type": "display_data"
    },
    {
     "data": {
      "text/html": [],
      "text/plain": [
       "<IPython.core.display.HTML object>"
      ]
     },
     "metadata": {},
     "output_type": "display_data"
    },
    {
     "name": "stdout",
     "output_type": "stream",
     "text": [
      "CPU times: user 48.6 ms, sys: 46.9 ms, total: 95.5 ms\n",
      "Wall time: 71 ms\n"
     ]
    },
    {
     "data": {
      "text/plain": [
       "('True', TensorBase(1), TensorBase([1.0679e-05, 9.9999e-01]))"
      ]
     },
     "execution_count": 10,
     "metadata": {},
     "output_type": "execute_result"
    }
   ],
   "source": [
    "%time learn.predict(im)"
   ]
  },
  {
   "cell_type": "code",
   "execution_count": 13,
   "id": "74431287",
   "metadata": {},
   "outputs": [],
   "source": [
    "#|export\n",
    "categories = ('Dog', 'Cat')\n",
    "\n",
    "def classify_image(img):\n",
    "    pred, idx, probs = learn.predict(img)\n",
    "    return dict(zip(categories, map(float,probs)))"
   ]
  },
  {
   "cell_type": "code",
   "execution_count": 14,
   "id": "238e7307",
   "metadata": {},
   "outputs": [
    {
     "data": {
      "text/html": [
       "\n",
       "<style>\n",
       "    /* Turns off some styling */\n",
       "    progress {\n",
       "        /* gets rid of default border in Firefox and Opera. */\n",
       "        border: none;\n",
       "        /* Needs to be in here for Safari polyfill so background images work as expected. */\n",
       "        background-size: auto;\n",
       "    }\n",
       "    progress:not([value]), progress:not([value])::-webkit-progress-bar {\n",
       "        background: repeating-linear-gradient(45deg, #7e7e7e, #7e7e7e 10px, #5c5c5c 10px, #5c5c5c 20px);\n",
       "    }\n",
       "    .progress-bar-interrupted, .progress-bar-interrupted::-webkit-progress-bar {\n",
       "        background: #F44336;\n",
       "    }\n",
       "</style>\n"
      ],
      "text/plain": [
       "<IPython.core.display.HTML object>"
      ]
     },
     "metadata": {},
     "output_type": "display_data"
    },
    {
     "data": {
      "text/html": [],
      "text/plain": [
       "<IPython.core.display.HTML object>"
      ]
     },
     "metadata": {},
     "output_type": "display_data"
    },
    {
     "data": {
      "text/plain": [
       "{'Dog': 1.067902849172242e-05, 'Cat': 0.9999892711639404}"
      ]
     },
     "execution_count": 14,
     "metadata": {},
     "output_type": "execute_result"
    }
   ],
   "source": [
    "classify_image(im)"
   ]
  },
  {
   "cell_type": "code",
   "execution_count": 19,
   "id": "0c074d57",
   "metadata": {},
   "outputs": [
    {
     "name": "stdout",
     "output_type": "stream",
     "text": [
      "Running on local URL:  http://127.0.0.1:7860\n",
      "\n",
      "To create a public link, set `share=True` in `launch()`.\n"
     ]
    },
    {
     "data": {
      "text/plain": []
     },
     "execution_count": 19,
     "metadata": {},
     "output_type": "execute_result"
    },
    {
     "data": {
      "text/html": [
       "\n",
       "<style>\n",
       "    /* Turns off some styling */\n",
       "    progress {\n",
       "        /* gets rid of default border in Firefox and Opera. */\n",
       "        border: none;\n",
       "        /* Needs to be in here for Safari polyfill so background images work as expected. */\n",
       "        background-size: auto;\n",
       "    }\n",
       "    progress:not([value]), progress:not([value])::-webkit-progress-bar {\n",
       "        background: repeating-linear-gradient(45deg, #7e7e7e, #7e7e7e 10px, #5c5c5c 10px, #5c5c5c 20px);\n",
       "    }\n",
       "    .progress-bar-interrupted, .progress-bar-interrupted::-webkit-progress-bar {\n",
       "        background: #F44336;\n",
       "    }\n",
       "</style>\n"
      ],
      "text/plain": [
       "<IPython.core.display.HTML object>"
      ]
     },
     "metadata": {},
     "output_type": "display_data"
    },
    {
     "data": {
      "text/html": [],
      "text/plain": [
       "<IPython.core.display.HTML object>"
      ]
     },
     "metadata": {},
     "output_type": "display_data"
    }
   ],
   "source": [
    "#|export\n",
    "image = gr.inputs.Image(shape=(192,192))\n",
    "label = gr.outputs.Label()\n",
    "\n",
    "examples = ['cat.png']\n",
    "intf = gr.Interface(fn=classify_image, inputs=image, outputs=label, examples=examples)\n",
    "\n",
    "intf.launch(inline=False)"
   ]
  },
  {
   "cell_type": "code",
   "execution_count": 23,
   "id": "31a91b0f",
   "metadata": {},
   "outputs": [
    {
     "ename": "ImportError",
     "evalue": "cannot import name 'notebook2script' from 'nbdev.export' (/Users/sachin/miniforge3/envs/fastai/lib/python3.10/site-packages/nbdev/export.py)",
     "output_type": "error",
     "traceback": [
      "\u001b[0;31m---------------------------------------------------------------------------\u001b[0m",
      "\u001b[0;31mImportError\u001b[0m                               Traceback (most recent call last)",
      "Cell \u001b[0;32mIn[23], line 1\u001b[0m\n\u001b[0;32m----> 1\u001b[0m \u001b[38;5;28;01mfrom\u001b[39;00m \u001b[38;5;21;01mnbdev\u001b[39;00m\u001b[38;5;21;01m.\u001b[39;00m\u001b[38;5;21;01mexport\u001b[39;00m \u001b[38;5;28;01mimport\u001b[39;00m notebook2script\n",
      "\u001b[0;31mImportError\u001b[0m: cannot import name 'notebook2script' from 'nbdev.export' (/Users/sachin/miniforge3/envs/fastai/lib/python3.10/site-packages/nbdev/export.py)"
     ]
    }
   ],
   "source": [
    "from nbdev.export import "
   ]
  },
  {
   "cell_type": "code",
   "execution_count": 21,
   "id": "90b2eb3f",
   "metadata": {},
   "outputs": [
    {
     "name": "stdout",
     "output_type": "stream",
     "text": [
      "Collecting nbdev\n",
      "  Downloading nbdev-2.3.9-py3-none-any.whl (64 kB)\n",
      "\u001b[2K     \u001b[90m━━━━━━━━━━━━━━━━━━━━━━━━━━━━━━━━━━━━━━━\u001b[0m \u001b[32m64.1/64.1 kB\u001b[0m \u001b[31m901.1 kB/s\u001b[0m eta \u001b[36m0:00:00\u001b[0m \u001b[36m0:00:01\u001b[0m\n",
      "\u001b[?25hRequirement already satisfied: asttokens in /Users/sachin/miniforge3/envs/fastai/lib/python3.10/site-packages (from nbdev) (2.2.1)\n",
      "Collecting watchdog\n",
      "  Downloading watchdog-2.2.0-cp310-cp310-macosx_11_0_arm64.whl (88 kB)\n",
      "\u001b[2K     \u001b[90m━━━━━━━━━━━━━━━━━━━━━━━━━━━━━━━━━━━━━━━━\u001b[0m \u001b[32m88.4/88.4 kB\u001b[0m \u001b[31m1.6 MB/s\u001b[0m eta \u001b[36m0:00:00\u001b[0ma \u001b[36m0:00:01\u001b[0m\n",
      "\u001b[?25hCollecting ghapi>=1.0.3\n",
      "  Downloading ghapi-1.0.3-py3-none-any.whl (58 kB)\n",
      "\u001b[2K     \u001b[90m━━━━━━━━━━━━━━━━━━━━━━━━━━━━━━━━━━━━━━━━\u001b[0m \u001b[32m58.1/58.1 kB\u001b[0m \u001b[31m1.6 MB/s\u001b[0m eta \u001b[36m0:00:00\u001b[0ma \u001b[36m0:00:01\u001b[0m\n",
      "\u001b[?25hRequirement already satisfied: fastcore>=1.5.27 in /Users/sachin/miniforge3/envs/fastai/lib/python3.10/site-packages (from nbdev) (1.5.27)\n",
      "Requirement already satisfied: PyYAML in /Users/sachin/miniforge3/envs/fastai/lib/python3.10/site-packages (from nbdev) (6.0)\n",
      "Collecting execnb>=0.1.4\n",
      "  Downloading execnb-0.1.4-py3-none-any.whl (13 kB)\n",
      "Collecting astunparse\n",
      "  Downloading astunparse-1.6.3-py2.py3-none-any.whl (12 kB)\n",
      "Requirement already satisfied: ipython in /Users/sachin/miniforge3/envs/fastai/lib/python3.10/site-packages (from execnb>=0.1.4->nbdev) (8.7.0)\n",
      "Requirement already satisfied: pip in /Users/sachin/miniforge3/envs/fastai/lib/python3.10/site-packages (from fastcore>=1.5.27->nbdev) (22.3.1)\n",
      "Requirement already satisfied: packaging in /Users/sachin/miniforge3/envs/fastai/lib/python3.10/site-packages (from fastcore>=1.5.27->nbdev) (21.3)\n",
      "Requirement already satisfied: six in /Users/sachin/miniforge3/envs/fastai/lib/python3.10/site-packages (from asttokens->nbdev) (1.16.0)\n",
      "Requirement already satisfied: wheel<1.0,>=0.23.0 in /Users/sachin/miniforge3/envs/fastai/lib/python3.10/site-packages (from astunparse->nbdev) (0.38.4)\n",
      "Requirement already satisfied: pickleshare in /Users/sachin/miniforge3/envs/fastai/lib/python3.10/site-packages (from ipython->execnb>=0.1.4->nbdev) (0.7.5)\n",
      "Requirement already satisfied: stack-data in /Users/sachin/miniforge3/envs/fastai/lib/python3.10/site-packages (from ipython->execnb>=0.1.4->nbdev) (0.6.2)\n",
      "Requirement already satisfied: pygments>=2.4.0 in /Users/sachin/miniforge3/envs/fastai/lib/python3.10/site-packages (from ipython->execnb>=0.1.4->nbdev) (2.13.0)\n",
      "Requirement already satisfied: prompt-toolkit<3.1.0,>=3.0.11 in /Users/sachin/miniforge3/envs/fastai/lib/python3.10/site-packages (from ipython->execnb>=0.1.4->nbdev) (3.0.33)\n",
      "Requirement already satisfied: pexpect>4.3 in /Users/sachin/miniforge3/envs/fastai/lib/python3.10/site-packages (from ipython->execnb>=0.1.4->nbdev) (4.8.0)\n",
      "Requirement already satisfied: decorator in /Users/sachin/miniforge3/envs/fastai/lib/python3.10/site-packages (from ipython->execnb>=0.1.4->nbdev) (5.1.1)\n",
      "Requirement already satisfied: backcall in /Users/sachin/miniforge3/envs/fastai/lib/python3.10/site-packages (from ipython->execnb>=0.1.4->nbdev) (0.2.0)\n",
      "Requirement already satisfied: jedi>=0.16 in /Users/sachin/miniforge3/envs/fastai/lib/python3.10/site-packages (from ipython->execnb>=0.1.4->nbdev) (0.18.2)\n",
      "Requirement already satisfied: appnope in /Users/sachin/miniforge3/envs/fastai/lib/python3.10/site-packages (from ipython->execnb>=0.1.4->nbdev) (0.1.3)\n",
      "Requirement already satisfied: matplotlib-inline in /Users/sachin/miniforge3/envs/fastai/lib/python3.10/site-packages (from ipython->execnb>=0.1.4->nbdev) (0.1.6)\n",
      "Requirement already satisfied: traitlets>=5 in /Users/sachin/miniforge3/envs/fastai/lib/python3.10/site-packages (from ipython->execnb>=0.1.4->nbdev) (5.6.0)\n",
      "Requirement already satisfied: pyparsing!=3.0.5,>=2.0.2 in /Users/sachin/miniforge3/envs/fastai/lib/python3.10/site-packages (from packaging->fastcore>=1.5.27->nbdev) (3.0.9)\n",
      "Requirement already satisfied: parso<0.9.0,>=0.8.0 in /Users/sachin/miniforge3/envs/fastai/lib/python3.10/site-packages (from jedi>=0.16->ipython->execnb>=0.1.4->nbdev) (0.8.3)\n",
      "Requirement already satisfied: ptyprocess>=0.5 in /Users/sachin/miniforge3/envs/fastai/lib/python3.10/site-packages (from pexpect>4.3->ipython->execnb>=0.1.4->nbdev) (0.7.0)\n",
      "Requirement already satisfied: wcwidth in /Users/sachin/miniforge3/envs/fastai/lib/python3.10/site-packages (from prompt-toolkit<3.1.0,>=3.0.11->ipython->execnb>=0.1.4->nbdev) (0.2.5)\n",
      "Requirement already satisfied: executing>=1.2.0 in /Users/sachin/miniforge3/envs/fastai/lib/python3.10/site-packages (from stack-data->ipython->execnb>=0.1.4->nbdev) (1.2.0)\n",
      "Requirement already satisfied: pure-eval in /Users/sachin/miniforge3/envs/fastai/lib/python3.10/site-packages (from stack-data->ipython->execnb>=0.1.4->nbdev) (0.2.2)\n",
      "Installing collected packages: watchdog, astunparse, ghapi, execnb, nbdev\n",
      "Successfully installed astunparse-1.6.3 execnb-0.1.4 ghapi-1.0.3 nbdev-2.3.9 watchdog-2.2.0\n"
     ]
    }
   ],
   "source": [
    "!pip install nbdev"
   ]
  }
 ],
 "metadata": {
  "kernelspec": {
   "display_name": "Python 3 (ipykernel)",
   "language": "python",
   "name": "python3"
  },
  "language_info": {
   "codemirror_mode": {
    "name": "ipython",
    "version": 3
   },
   "file_extension": ".py",
   "mimetype": "text/x-python",
   "name": "python",
   "nbconvert_exporter": "python",
   "pygments_lexer": "ipython3",
   "version": "3.10.4"
  },
  "toc": {
   "base_numbering": 1,
   "nav_menu": {},
   "number_sections": true,
   "sideBar": true,
   "skip_h1_title": false,
   "title_cell": "Table of Contents",
   "title_sidebar": "Contents",
   "toc_cell": false,
   "toc_position": {},
   "toc_section_display": true,
   "toc_window_display": false
  }
 },
 "nbformat": 4,
 "nbformat_minor": 5
}
